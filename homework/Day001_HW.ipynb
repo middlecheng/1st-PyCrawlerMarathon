{
 "cells": [
  {
   "cell_type": "code",
   "execution_count": null,
   "metadata": {},
   "outputs": [],
   "source": [
    "1.（簡答題）檔案、API、爬蟲三種取得資料方式有什麼不同？\n",
    "檔案:資料成檔案提供下載,ex:csv,json\n",
    "API:提供程式化的接口,可以選擇特定資料\n",
    "爬蟲:資料出現在網頁上,以爬蟲程式獲取\n"
   ]
  },
  {
   "cell_type": "code",
   "execution_count": 13,
   "metadata": {},
   "outputs": [
    {
     "data": {
      "text/plain": [
       "('../Data/Homework.txt', <http.client.HTTPMessage at 0x25b98235ba8>)"
      ]
     },
     "execution_count": 13,
     "metadata": {},
     "output_type": "execute_result"
    }
   ],
   "source": [
    "#2.實作題\n",
    "#下載指定檔案到 Data 資料夾，存成檔名 Homework.txt\n",
    "from urllib.request import urlretrieve\n",
    "\n",
    "urlretrieve (\"https://www.w3.org/TR/PNG/iso_8859-1.txt\", \"../Data/Homework.txt\")"
   ]
  },
  {
   "cell_type": "code",
   "execution_count": 14,
   "metadata": {},
   "outputs": [
    {
     "name": "stdout",
     "output_type": "stream",
     "text": [
      "['Homework.txt']\n"
     ]
    }
   ],
   "source": [
    "#檢查 Data 資料夾是否有 Homework.txt 檔名\n",
    "import os\n",
    "\n",
    "filepath='../Data'\n",
    "os.chdir(filepath)\n",
    "file_list= os.listdir()\n",
    "print(file_list)"
   ]
  },
  {
   "cell_type": "code",
   "execution_count": 15,
   "metadata": {},
   "outputs": [],
   "source": [
    "#將「Hello World」字串覆寫到 Homework.txt 檔案\n",
    "#讀\n",
    "filename='Homework.txt'\n",
    "f=open(filepath+'//'+filename,'r+')\n",
    "fr=f.readlines()\n",
    "f.close()\n",
    "#print(fr)"
   ]
  },
  {
   "cell_type": "code",
   "execution_count": 16,
   "metadata": {},
   "outputs": [],
   "source": [
    "#複寫\n",
    "f=open(filepath+'//'+filename,'w+')\n",
    "seq=[\"Hello World\"]\n",
    "f.writelines(seq)\n",
    "f.close()"
   ]
  },
  {
   "cell_type": "code",
   "execution_count": 17,
   "metadata": {},
   "outputs": [
    {
     "name": "stdout",
     "output_type": "stream",
     "text": [
      "[O] 檢查 Homework.txt 檔案字數是否符合 Hello World 字數\n",
      "11\n"
     ]
    }
   ],
   "source": [
    "# 檢查 Homework.txt 檔案字數是否符合 Hello World 字數\n",
    "f=open(filepath+'//'+filename,'r+')\n",
    "fr=f.read()\n",
    "if len('Hello World') == len(fr):\n",
    "    print('[O] 檢查 Homework.txt 檔案字數是否符合 Hello World 字數')\n",
    "else:\n",
    "    print('[X] 檢查 Homework.txt 檔案字數是否符合 Hello World 字數')\n",
    "\n",
    "f.close()\n",
    "print(len(fr))"
   ]
  },
  {
   "cell_type": "code",
   "execution_count": null,
   "metadata": {},
   "outputs": [],
   "source": []
  }
 ],
 "metadata": {
  "kernelspec": {
   "display_name": "Python 3",
   "language": "python",
   "name": "python3"
  },
  "language_info": {
   "codemirror_mode": {
    "name": "ipython",
    "version": 3
   },
   "file_extension": ".py",
   "mimetype": "text/x-python",
   "name": "python",
   "nbconvert_exporter": "python",
   "pygments_lexer": "ipython3",
   "version": "3.6.5"
  }
 },
 "nbformat": 4,
 "nbformat_minor": 2
}
